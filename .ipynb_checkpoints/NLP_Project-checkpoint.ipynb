{
 "cells": [
  {
   "cell_type": "markdown",
   "id": "2b9eaa90",
   "metadata": {},
   "source": [
    "# Group 9 NLP Project: Court Appeals Documents"
   ]
  },
  {
   "cell_type": "code",
   "execution_count": 4,
   "id": "964d677b",
   "metadata": {
    "collapsed": true
   },
   "outputs": [
    {
     "name": "stdout",
     "output_type": "stream",
     "text": [
      "Requirement already satisfied: PyPDF2 in /Users/mjs/opt/anaconda3/lib/python3.9/site-packages (3.0.1)\n",
      "Requirement already satisfied: typing_extensions>=3.10.0.0 in /Users/mjs/opt/anaconda3/lib/python3.9/site-packages (from PyPDF2) (4.3.0)\n",
      "Note: you may need to restart the kernel to use updated packages.\n"
     ]
    }
   ],
   "source": [
    "## installing pyPDF2\n",
    "pip install PyPDF2"
   ]
  },
  {
   "cell_type": "code",
   "execution_count": 66,
   "id": "0a35f7c5",
   "metadata": {},
   "outputs": [
    {
     "name": "stdout",
     "output_type": "stream",
     "text": [
      "2\n"
     ]
    }
   ],
   "source": [
    "import os\n",
    "import pandas as pd\n",
    "\n",
    "## location is folder of pdfs\n",
    "def pdf_reader(location):\n",
    "    \n",
    "    #@ initialize list\n",
    "    my_list = []\n",
    "\n",
    "    #@ iterate over files in that directory, appending text list as one string object\n",
    "    for f in os.listdir(location):\n",
    "        pdf = location + str(f)\n",
    "        reader = PyPDF2.PdfReader(pdf)\n",
    "        output = ''\n",
    "        #@ iterate over each page in that file\n",
    "        for i in range(len(reader.pages)):\n",
    "            page = reader.pages[i]\n",
    "            output += page.extract_text()\n",
    "        my_list.append(output)\n",
    "    \n",
    "    return my_list\n",
    "\n",
    "## my folder of pdfs. currently, i've just downloaded 2\n",
    "PDFs = pdf_reader('/Users/mjs/Downloads/testPDFs/')\n",
    "print(len(PDFs))"
   ]
  },
  {
   "cell_type": "code",
   "execution_count": 52,
   "id": "da234a25",
   "metadata": {},
   "outputs": [],
   "source": [
    "##lemma and stemming\n",
    "from nltk.stem import WordNetLemmatizer, SnowballStemmer\n",
    "from nltk.stem.porter import *\n",
    "\n",
    "stemmer = SnowballStemmer('english')\n",
    "def lemmatize_stemming(text):\n",
    "    return stemmer.stem(WordNetLemmatizer().lemmatize(text, pos='v'))"
   ]
  },
  {
   "cell_type": "code",
   "execution_count": 60,
   "id": "887e5ffb",
   "metadata": {},
   "outputs": [
    {
     "name": "stderr",
     "output_type": "stream",
     "text": [
      "[nltk_data] Downloading package omw-1.4 to /Users/mjs/nltk_data...\n",
      "[nltk_data] Downloading package wordnet to /Users/mjs/nltk_data...\n",
      "[nltk_data]   Package wordnet is already up-to-date!\n"
     ]
    }
   ],
   "source": [
    "## preprocessing using gensim\n",
    "import gensim\n",
    "import nltk\n",
    "nltk.download('omw-1.4')\n",
    "nltk.download('wordnet')\n",
    "from gensim.utils import simple_preprocess\n",
    "\n",
    "## gensim's built-in preprocessing function\n",
    "def preprocess(text):\n",
    "    result = []\n",
    "    for token in gensim.utils.simple_preprocess(text):\n",
    "        if token not in gensim.parsing.preprocessing.STOPWORDS and len(token) > 3:\n",
    "            result.append(lemmatize_stemming(token))\n",
    "    return result"
   ]
  },
  {
   "cell_type": "code",
   "execution_count": 63,
   "id": "e3727307",
   "metadata": {},
   "outputs": [],
   "source": [
    "US_v_Pena = my_list[1]\n",
    "final_text = preprocess(US_v_Pena)"
   ]
  }
 ],
 "metadata": {
  "kernelspec": {
   "display_name": "Python 3 (ipykernel)",
   "language": "python",
   "name": "python3"
  },
  "language_info": {
   "codemirror_mode": {
    "name": "ipython",
    "version": 3
   },
   "file_extension": ".py",
   "mimetype": "text/x-python",
   "name": "python",
   "nbconvert_exporter": "python",
   "pygments_lexer": "ipython3",
   "version": "3.9.13"
  }
 },
 "nbformat": 4,
 "nbformat_minor": 5
}
